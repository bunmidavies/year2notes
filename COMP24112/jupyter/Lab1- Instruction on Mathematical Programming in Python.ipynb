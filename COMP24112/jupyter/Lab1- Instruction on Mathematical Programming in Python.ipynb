{
 "cells": [
  {
   "cell_type": "markdown",
   "metadata": {},
   "source": [
    "# Instruction on Mathematical Programming in Python for COMP24112\n",
    "\n",
    "Disclaimer: This is *not* a tutorial for complete beginners in Python. It assumes you already know the language at a very basic level. You should go through the official introductory tutorial first (https://docs.python.org/3/tutorial/introduction.html), if you haven't already. You can use the following cell as an interactive console to learn hands-on, although we recommend you to use Spyder's one."
   ]
  },
  {
   "cell_type": "code",
   "execution_count": 11,
   "metadata": {},
   "outputs": [],
   "source": [
    "# Write your code here"
   ]
  },
  {
   "cell_type": "markdown",
   "metadata": {},
   "source": [
    "# Table of Contents\n",
    "\n",
    "* [Control structures](#sec1)\n",
    "* [Matrix programming](#sec2)\n",
    " * [Creating vectors and matrices](#sec2.1:create)\n",
    " * [Accessing elements of arrays](#sec2.2:access)\n",
    " * [Creating random matrices](#sec2.3:random)\n",
    " * [Matrix attributes and functions](#sec2.4:attr)\n",
    " * [Operators on matrices](#sec2.5:operators)\n",
    "* [Plotting](#sec3)"
   ]
  },
  {
   "cell_type": "markdown",
   "metadata": {},
   "source": [
    "# <a id='sec1'> 1. Control structures </a>\n",
    "\n",
    "We will show the basics constructs for control flow in Python. If you want to know more we redirect you to the official guide: https://docs.python.org/3/tutorial/controlflow.html."
   ]
  },
  {
   "cell_type": "markdown",
   "metadata": {},
   "source": [
    "## If"
   ]
  },
  {
   "cell_type": "code",
   "execution_count": 20,
   "metadata": {},
   "outputs": [
    {
     "name": "stdout",
     "output_type": "stream",
     "text": [
      "Less than 10.\n",
      "Less than 10.\n",
      "Less than 10.\n"
     ]
    }
   ],
   "source": [
    "x = 5\n",
    "\n",
    "if x < 10:\n",
    "    print('Less than 10.')\n",
    "    \n",
    "if x < 10:\n",
    "    print('Less than 10.')\n",
    "else:\n",
    "    print('At least 10.')\n",
    "    \n",
    "if x < 10:\n",
    "    print('Less than 10.')\n",
    "elif x < 20:\n",
    "    print('Less than 20.')\n",
    "elif x < 30:\n",
    "    print('Less than 30.')\n",
    "else:\n",
    "    print('At least 30.')"
   ]
  },
  {
   "cell_type": "markdown",
   "metadata": {},
   "source": [
    "## For"
   ]
  },
  {
   "cell_type": "code",
   "execution_count": 13,
   "metadata": {},
   "outputs": [
    {
     "name": "stdout",
     "output_type": "stream",
     "text": [
      "0 1 2 3 4 \n",
      "3 4 5 6 \n",
      "3 5 7 9 11 \n",
      "0 1 2 \n",
      "0 1 2 3 4 Went through the whole loop!\n",
      "\n"
     ]
    }
   ],
   "source": [
    "for i in range(5):  # Note how 5 is excluded\n",
    "    print(i, end=' ')\n",
    "print()\n",
    "    \n",
    "for i in range(3, 7):  # Again, 7 is excluded\n",
    "    print(i, end=' ')\n",
    "print()\n",
    "    \n",
    "for i in range(3, 12, 2):  # Step 2\n",
    "    print(i, end=' ')\n",
    "print()\n",
    "\n",
    "for i in range(5):\n",
    "    if i > 2:\n",
    "        break\n",
    "    print(i, end=' ')\n",
    "print()\n",
    "    \n",
    "for i in range(5):\n",
    "    if i > 7:  # This will never occur.\n",
    "        break\n",
    "    print(i, end=' ')\n",
    "else:  # Python allows an `else` clause to the for loop that is executed when no `break` occurred.\n",
    "    print('Went through the whole loop!')\n",
    "print()"
   ]
  },
  {
   "cell_type": "markdown",
   "metadata": {},
   "source": [
    "# User-defined functions\n",
    "\n",
    "Defining functions for code reuse and structure is of primary importance. Generally, copy-pasting code signals that you should probably write a function instead. Here are the most common, yet most useful, ways of defining a function in Python."
   ]
  },
  {
   "cell_type": "code",
   "execution_count": 14,
   "metadata": {},
   "outputs": [
    {
     "name": "stdout",
     "output_type": "stream",
     "text": [
      "This function is not very useful.\n"
     ]
    }
   ],
   "source": [
    "def my_function():\n",
    "    # Write your code here\n",
    "    print('This function is not very useful.')\n",
    "\n",
    "my_function()"
   ]
  },
  {
   "cell_type": "code",
   "execution_count": 15,
   "metadata": {},
   "outputs": [
    {
     "name": "stdout",
     "output_type": "stream",
     "text": [
      "14\n"
     ]
    }
   ],
   "source": [
    "def my_sum(a, b):\n",
    "    s = a + b\n",
    "    return s\n",
    "\n",
    "print(my_sum(5, 9))"
   ]
  },
  {
   "cell_type": "code",
   "execution_count": 16,
   "metadata": {},
   "outputs": [
    {
     "name": "stdout",
     "output_type": "stream",
     "text": [
      "4 1\n"
     ]
    }
   ],
   "source": [
    "def division_and_reminder(a, b):\n",
    "    d = a // b  # `//` is the integer division operator\n",
    "    r = a % b  # `%` is the modulo operator\n",
    "    return d, r\n",
    "\n",
    "d, r = division_and_reminder(13, 3)\n",
    "print(d, r)"
   ]
  },
  {
   "cell_type": "code",
   "execution_count": 17,
   "metadata": {
    "scrolled": true
   },
   "outputs": [
    {
     "name": "stdout",
     "output_type": "stream",
     "text": [
      "100\n",
      "9\n"
     ]
    }
   ],
   "source": [
    "def exp(x, base=10):  # You can assign values as defaults\n",
    "    return base ** x\n",
    "\n",
    "print(exp(2))\n",
    "print(exp(2, base=3))"
   ]
  },
  {
   "cell_type": "markdown",
   "metadata": {},
   "source": [
    "# <a id='sec2'> 2. Matrix programming</a>\n",
    "\n",
    "A matrix is a rectangular array of numbers, like a two-dimensional array in C or JAVA. An ''$n$ by $m$\"  (or $n\\times m$) matrix has $n$ rows and $m$ columns. Special meaning is sometimes attached to 1 by 1 matrices, which are called ''scalars'' (ordinary numbers, basically), and to matrices with only one row or only one column, which are called ''vectors''.\n",
    "\n",
    "In Python, the most common way of dealing with matrices is using NumPy's arrays. They represent multi-dimensional arrays of a fixed size. This means that they can be used to represent scalars (0D), vectors (1D), matrices (2D) and even higher-order arrays (but you will not need to use them in this course).\n",
    "\n",
    "First of all, we must include NumPy."
   ]
  },
  {
   "cell_type": "code",
   "execution_count": 18,
   "metadata": {},
   "outputs": [],
   "source": [
    "import numpy as np"
   ]
  },
  {
   "cell_type": "markdown",
   "metadata": {},
   "source": [
    "## <a id='sec2.1:create'> 2.1 Creating vectors and matrices </a>\n",
    "\n",
    "To manually instantiate a vector in NumPy use the following syntax:"
   ]
  },
  {
   "cell_type": "code",
   "execution_count": 19,
   "metadata": {},
   "outputs": [
    {
     "name": "stdout",
     "output_type": "stream",
     "text": [
      "[  1  10 100]\n"
     ]
    }
   ],
   "source": [
    "a = np.array([1, 10, 100])\n",
    "print(a)"
   ]
  },
  {
   "cell_type": "markdown",
   "metadata": {},
   "source": [
    "If you have gone through the Python introductory tutorial (as you should), you have probably realised that we have called the `np.array()` function by passing a list as an argument. This is why the sequence of number is delimited by brackets \\[ \\] and elements are separated by a comma.\n",
    "\n",
    "To define a matrix you can run:"
   ]
  },
  {
   "cell_type": "code",
   "execution_count": null,
   "metadata": {},
   "outputs": [],
   "source": [
    "A = np.array([[0, 1, 2],\n",
    "              [3, 4, 5]\n",
    "             ]) \n",
    "# Note: new lines are not important here. We could write: np.array([[0, 1, 2], [3, 4, 5]]).\n",
    "print(A)"
   ]
  },
  {
   "cell_type": "markdown",
   "metadata": {},
   "source": [
    "We are instantiating a list of lists first, and then passing it as an argument to `np.array()`. Each of the inner lists defines a row. Note that each row *must* have the same number of elements, otherwise the resulting object will not be a matrix:"
   ]
  },
  {
   "cell_type": "code",
   "execution_count": null,
   "metadata": {},
   "outputs": [],
   "source": [
    "# THIS IS WRONG!\n",
    "print(np.array([[0, 1, 2],\n",
    "                [3, 4]\n",
    "               ]))"
   ]
  },
  {
   "cell_type": "markdown",
   "metadata": {},
   "source": [
    "However, you will rarely need to define a vector or a matrix manually. Most of the time you will use one of the built-in functions to create specific types of arrays:"
   ]
  },
  {
   "cell_type": "code",
   "execution_count": null,
   "metadata": {},
   "outputs": [],
   "source": [
    "range_v = np.arange(10)  # Array of integers from 0 to 9\n",
    "print(range_v)"
   ]
  },
  {
   "cell_type": "code",
   "execution_count": null,
   "metadata": {},
   "outputs": [],
   "source": [
    "X = np.zeros([3, 3]) # 2x3 matrix full of zeros\n",
    "print(X)"
   ]
  },
  {
   "cell_type": "code",
   "execution_count": null,
   "metadata": {},
   "outputs": [],
   "source": [
    "y = np.ones(5)  # array of length 4 full of ones\n",
    "print(y)"
   ]
  },
  {
   "cell_type": "code",
   "execution_count": null,
   "metadata": {},
   "outputs": [],
   "source": [
    "I  = np.eye(5, dtype=int)  # 3x3 identity matrix\n",
    "print(I)"
   ]
  },
  {
   "cell_type": "markdown",
   "metadata": {},
   "source": [
    "There are a few things to note here. First, the shape must be passed as a list in order to create a matrix: `np.zeros(2, 3)` would return an error. On the other hand, for a vector you can pass a single scalar to represent the length, as we did in `y = np.ones(4)`. Second, the default data type is float. In previous examples the resulting arrays where integers because NumPy automatically inferred it from the constants we used. Compare these:"
   ]
  },
  {
   "cell_type": "code",
   "execution_count": null,
   "metadata": {},
   "outputs": [],
   "source": [
    "int_vector = np.array([0, 1, 2])  # All constants are integers.\n",
    "print(int_vector)"
   ]
  },
  {
   "cell_type": "code",
   "execution_count": null,
   "metadata": {},
   "outputs": [],
   "source": [
    "float_vector = np.array([0, 1, 2])  # All constants are floats. Note: \"1.\" is the same as \"1.0\" in Python.\n",
    "print(float_vector)"
   ]
  },
  {
   "cell_type": "code",
   "execution_count": null,
   "metadata": {},
   "outputs": [],
   "source": [
    "another_float_vector = np.array([0, 1.7, 2])  # Integers are converted to floats when mixed.\n",
    "print(another_float_vector)"
   ]
  },
  {
   "cell_type": "markdown",
   "metadata": {},
   "source": [
    "To force NumPy to use integers you can use the keyword argument `dtype`:"
   ]
  },
  {
   "cell_type": "code",
   "execution_count": null,
   "metadata": {},
   "outputs": [],
   "source": [
    "y_float = np.ones(4)\n",
    "print(y_float)"
   ]
  },
  {
   "cell_type": "code",
   "execution_count": null,
   "metadata": {},
   "outputs": [],
   "source": [
    "y_int = np.ones(4, dtype=int)\n",
    "print(y_int)"
   ]
  },
  {
   "cell_type": "markdown",
   "metadata": {},
   "source": [
    "Finally, `np.zeros()` and `np.ones()` have their counterparts that create an array copying dimensions and data type from an existing one:"
   ]
  },
  {
   "cell_type": "code",
   "execution_count": null,
   "metadata": {},
   "outputs": [],
   "source": [
    "z = np.zeros_like(y_int,dtype=float)  # y_int was defined previously as an array of integers of length 4, so z is too.\n",
    "print(z)"
   ]
  },
  {
   "cell_type": "code",
   "execution_count": null,
   "metadata": {},
   "outputs": [],
   "source": [
    "Y = np.ones_like(X)  # X was a 2x3 matrix of zeros.\n",
    "print(Y)"
   ]
  },
  {
   "cell_type": "markdown",
   "metadata": {},
   "source": [
    "## <a id='sec2.2:access'> 2.2 Accessing elements of arrays </a>\n",
    "\n",
    "You can access elements of a NumPy array exactly like you would with a list or string:"
   ]
  },
  {
   "cell_type": "code",
   "execution_count": null,
   "metadata": {},
   "outputs": [],
   "source": [
    "a = np.array([5, 50, 500])\n",
    "print(a[0], a[1], a[2], a[-1])"
   ]
  },
  {
   "cell_type": "markdown",
   "metadata": {},
   "source": [
    "For matrices you can do the same, but it's much clearer and more convenient to use NumPy indexing:"
   ]
  },
  {
   "cell_type": "code",
   "execution_count": null,
   "metadata": {},
   "outputs": [],
   "source": [
    "A = np.array([[0, 1, 2],\n",
    "              [3, 4, 5]\n",
    "             ])\n",
    "print(A[0][0], A[0][2], A[1][-2])  # List indexing. You should not use this.\n",
    "print(A[0, 0], A[0, 2], A[1, -2])  # NumPy indexing. Use this."
   ]
  },
  {
   "cell_type": "markdown",
   "metadata": {},
   "source": [
    "You can use the syntax `start:stop` to select a part of a matrix. Note that `start` is included, while `stop` is **excluded**. This is the same as Python's slicing that you have seen in the tutorial."
   ]
  },
  {
   "cell_type": "code",
   "execution_count": null,
   "metadata": {},
   "outputs": [],
   "source": [
    "B = np.array([[ 0,  1,  2,  3],\n",
    "              [ 4,  5,  6,  7],\n",
    "              [ 8,  9, 10, 11]\n",
    "             ])\n",
    "print(B[0:2, 1:3])"
   ]
  },
  {
   "cell_type": "markdown",
   "metadata": {},
   "source": [
    "If you omit `start`, Python will start from the beginning. If you omit `stop`, it will continue until the end. If you omit both, it will do both, thus selecting everything."
   ]
  },
  {
   "cell_type": "code",
   "execution_count": null,
   "metadata": {},
   "outputs": [],
   "source": [
    "print(B[:2, 1:3])  # Note: this is the same as before, because 0 is the starting value."
   ]
  },
  {
   "cell_type": "code",
   "execution_count": null,
   "metadata": {},
   "outputs": [],
   "source": [
    "print(B[:2, 1:])"
   ]
  },
  {
   "cell_type": "code",
   "execution_count": null,
   "metadata": {},
   "outputs": [],
   "source": [
    "print(B[:2, :])"
   ]
  },
  {
   "cell_type": "markdown",
   "metadata": {},
   "source": [
    "You can also use negative indices, as usual:"
   ]
  },
  {
   "cell_type": "code",
   "execution_count": null,
   "metadata": {},
   "outputs": [],
   "source": [
    "# These are the same because 3 is the last column index.\n",
    "print(B[:2, :3])\n",
    "print(B[:2, :-1])"
   ]
  },
  {
   "cell_type": "markdown",
   "metadata": {},
   "source": [
    "You can also specify a step by using the `start:stop:step` syntax, if you want non-unit spacing (note that `step` is the last element!):"
   ]
  },
  {
   "cell_type": "code",
   "execution_count": null,
   "metadata": {},
   "outputs": [],
   "source": [
    "C = np.array([[ 0,  1,  2,  3,  4,  5,  6,  7],\n",
    "              [ 8,  9, 10, 11, 12, 13, 14, 15]\n",
    "             ])\n",
    "print(C[:, ::2])\n",
    "print(C[:, 1:6:2])"
   ]
  },
  {
   "cell_type": "markdown",
   "metadata": {},
   "source": [
    "If you use a negative step you go backwards:"
   ]
  },
  {
   "cell_type": "code",
   "execution_count": null,
   "metadata": {},
   "outputs": [],
   "source": [
    "print(C[:, ::-1])  # From last element to first"
   ]
  },
  {
   "cell_type": "code",
   "execution_count": null,
   "metadata": {},
   "outputs": [],
   "source": [
    "print(C[:, ::-2])  # Same as above, but with step two"
   ]
  },
  {
   "cell_type": "code",
   "execution_count": null,
   "metadata": {},
   "outputs": [],
   "source": [
    "print(C[:, 6:2:-2])  # Also specify start and end"
   ]
  },
  {
   "cell_type": "markdown",
   "metadata": {},
   "source": [
    "You can also use lists or other arrays of integers to index."
   ]
  },
  {
   "cell_type": "code",
   "execution_count": null,
   "metadata": {},
   "outputs": [],
   "source": [
    "print(B)\n",
    "print(B[0::2, :])  # Even numbered rows.\n",
    "print(B[[0, 2], :])  # Rows 0 and 2. Since matrix B has 3 rows, this is effectively the same as above.\n",
    "row_inds = np.array([0, 2])\n",
    "print(B[row_inds, :])  # NumPy arrays work as well."
   ]
  },
  {
   "cell_type": "markdown",
   "metadata": {},
   "source": [
    "Note that NumPy supports a more advanced way of indexing, that allows you to use matrices as indices as well. The example below shows one example where advanced indexing is useful. You can read more about it on the [NumPy documentation](https://docs.scipy.org/doc/numpy/reference/arrays.indexing.html)."
   ]
  },
  {
   "cell_type": "code",
   "execution_count": null,
   "metadata": {},
   "outputs": [],
   "source": [
    "a = np.array([5, 50, 500])  # `a` is the array that contains the values we are interested in.\n",
    "I = np.array([[0, 1, 2], [2, 0, 1]])  # `I` is a 2x3 matrix containing indices over array `a`.\n",
    "\n",
    "# `R` is a 2x3 matrix (same shape as `I`) containing elements taken from array `a`.\n",
    "#  For example, R[0, 1] is defined as a[I[0, 1]].\n",
    "R = a[I]\n",
    "\n",
    "print(a)\n",
    "print(I)\n",
    "print(\"----\")\n",
    "#print(R)\n",
    "print(a[np.array([[0,1,2],[2,0,1]])])"
   ]
  },
  {
   "cell_type": "markdown",
   "metadata": {},
   "source": [
    "## <a id='sec2.3:random'> 2.3 Creating random matrices </a>\n",
    "\n",
    "In Python there are two common ways of dealing with randomness: use the standard `random` library or NumPy's one."
   ]
  },
  {
   "cell_type": "code",
   "execution_count": null,
   "metadata": {},
   "outputs": [],
   "source": [
    "import random  # Standard library\n",
    "print(random.random())"
   ]
  },
  {
   "cell_type": "code",
   "execution_count": null,
   "metadata": {},
   "outputs": [],
   "source": [
    "# Now we use NumPy's random library.\n",
    "print(np.random.rand())"
   ]
  },
  {
   "cell_type": "markdown",
   "metadata": {},
   "source": [
    "It is generally more convenient to use NumPy because it makes it easier to create and handle random vectors and matrices.\n",
    "\n",
    "We just used `np.random.rand()` without arguments and saw that it returns a single scalar. We can use it to create vectors or matrices as well:"
   ]
  },
  {
   "cell_type": "code",
   "execution_count": null,
   "metadata": {},
   "outputs": [],
   "source": [
    "print(np.random.rand(5))  # vector of length 5"
   ]
  },
  {
   "cell_type": "code",
   "execution_count": null,
   "metadata": {},
   "outputs": [],
   "source": [
    "print(np.random.rand(3, 3))  # 2x3 matrix"
   ]
  },
  {
   "cell_type": "markdown",
   "metadata": {},
   "source": [
    "`np.random.rand()` samples from a uniform distribution over $[0, 1)$. You can use `np.random.randn()` to sample from a standard normal/Gaussian distribution instead:"
   ]
  },
  {
   "cell_type": "code",
   "execution_count": null,
   "metadata": {},
   "outputs": [],
   "source": [
    "print(np.random.randn(2, 3))"
   ]
  },
  {
   "cell_type": "markdown",
   "metadata": {},
   "source": [
    "For integers you can use `np.random.randint()`. There are a few ways of calling it:"
   ]
  },
  {
   "cell_type": "code",
   "execution_count": null,
   "metadata": {},
   "outputs": [],
   "source": [
    "print(np.random.randint(5))  # Single integer in [0, 5).\n",
    "print(np.random.randint(0,5))  # Single integer in [3, 10).\n",
    "print(np.random.randint(6, size=10))  # Vector of length 10 with integers in [0, 6).\n",
    "print(np.random.randint(3, 10, size=[3, 4]))  # 3x4 matrix of integers in [3, 10)."
   ]
  },
  {
   "cell_type": "markdown",
   "metadata": {},
   "source": [
    "To perform permutations you can use `np.random.permutation()`. You can use it in two ways:"
   ]
  },
  {
   "cell_type": "code",
   "execution_count": null,
   "metadata": {},
   "outputs": [],
   "source": [
    "print(np.random.permutation(3))  # Random permutation of [0, 1, 2, 3]"
   ]
  },
  {
   "cell_type": "code",
   "execution_count": null,
   "metadata": {},
   "outputs": [],
   "source": [
    "print(np.random.permutation([93, 2, 1919, -38]))  # Random permutation of the input list."
   ]
  },
  {
   "cell_type": "markdown",
   "metadata": {},
   "source": [
    "You can select just some elements of the result if you want a sample:"
   ]
  },
  {
   "cell_type": "code",
   "execution_count": null,
   "metadata": {},
   "outputs": [],
   "source": [
    "# Sample 4 different numbers in [0, 10).\n",
    "rnd = np.random.permutation(10)\n",
    "print(rnd[0:12:1])"
   ]
  },
  {
   "cell_type": "markdown",
   "metadata": {},
   "source": [
    "## <a id='sec2.4:attr'> 2.4 Matrix attributes and functions </a>\n",
    "\n",
    "NumPy arrays have quite a few useful attributes."
   ]
  },
  {
   "cell_type": "markdown",
   "metadata": {},
   "source": [
    "### Data type"
   ]
  },
  {
   "cell_type": "code",
   "execution_count": null,
   "metadata": {},
   "outputs": [],
   "source": [
    "y_float = np.ones(4)\n",
    "print(y_float.dtype)\n",
    "y_int = np.ones(4, dtype=int)\n",
    "print(y_int.dtype)"
   ]
  },
  {
   "cell_type": "markdown",
   "metadata": {},
   "source": [
    "### Shape and size"
   ]
  },
  {
   "cell_type": "code",
   "execution_count": 21,
   "metadata": {},
   "outputs": [
    {
     "name": "stdout",
     "output_type": "stream",
     "text": [
      "(2, 3)\n",
      "2\n",
      "6\n"
     ]
    }
   ],
   "source": [
    "A = np.array([[0, 1, 2],\n",
    "              [3, 4, 5]\n",
    "             ])\n",
    "print(A.shape)  # Get all dimensions.\n",
    "print(A.shape[0])  # Get only the first dimension.\n",
    "print(A.size)  # This is the number of elements in the matrix, i.e., the product of its dimensions."
   ]
  },
  {
   "cell_type": "markdown",
   "metadata": {},
   "source": [
    "Please note that, in NumPy, vectors are **NOT** exactly equivalent to matrices with a dimension equal to one."
   ]
  },
  {
   "cell_type": "code",
   "execution_count": 22,
   "metadata": {
    "scrolled": true
   },
   "outputs": [
    {
     "name": "stdout",
     "output_type": "stream",
     "text": [
      "(3,)\n",
      "(1, 3)\n"
     ]
    }
   ],
   "source": [
    "a = np.array([0, 1, 2])\n",
    "print(a.shape)\n",
    "b = np.array([[0, 1, 2]])  # Note the double brackets.\n",
    "print(b.shape)"
   ]
  },
  {
   "cell_type": "markdown",
   "metadata": {},
   "source": [
    "### Transposition"
   ]
  },
  {
   "cell_type": "code",
   "execution_count": 26,
   "metadata": {},
   "outputs": [
    {
     "name": "stdout",
     "output_type": "stream",
     "text": [
      "(2, 3)\n",
      "(3, 2)\n"
     ]
    }
   ],
   "source": [
    "print(A.shape)\n",
    "print(A.T.shape)"
   ]
  },
  {
   "cell_type": "markdown",
   "metadata": {},
   "source": [
    "For vectors, transposition only makes sense with 2-dimensional ones:"
   ]
  },
  {
   "cell_type": "code",
   "execution_count": null,
   "metadata": {},
   "outputs": [],
   "source": [
    "print(a)\n",
    "print(a.T)  # This is exactly the same.\n",
    "print(b)\n",
    "print(b.T)  # This is not!"
   ]
  },
  {
   "cell_type": "markdown",
   "metadata": {},
   "source": [
    "### Diagonals"
   ]
  },
  {
   "cell_type": "code",
   "execution_count": null,
   "metadata": {},
   "outputs": [],
   "source": [
    "I = np.eye(4)\n",
    "print(I)\n",
    "print(I.diagonal())\n",
    "print(np.diag(I))  # Alternative way"
   ]
  },
  {
   "cell_type": "markdown",
   "metadata": {},
   "source": [
    "`np.diag()` can also be used to construct a diagonal matrix, like in Matlab:"
   ]
  },
  {
   "cell_type": "code",
   "execution_count": null,
   "metadata": {},
   "outputs": [],
   "source": [
    "D = np.diag([1, 2, 4, 8])\n",
    "\n",
    "print(D)"
   ]
  },
  {
   "cell_type": "markdown",
   "metadata": {},
   "source": [
    "### Computation functions"
   ]
  },
  {
   "cell_type": "code",
   "execution_count": null,
   "metadata": {},
   "outputs": [],
   "source": [
    "B = np.array([[ 0,  1,  2,  3],\n",
    "              [ 4,  5,  6,  7],\n",
    "              [ 8,  9, 10, 11]\n",
    "             ])\n",
    "print(np.min(np.random.permutation(4)))"
   ]
  },
  {
   "cell_type": "code",
   "execution_count": null,
   "metadata": {},
   "outputs": [],
   "source": [
    "print(np.max(B))"
   ]
  },
  {
   "cell_type": "code",
   "execution_count": null,
   "metadata": {},
   "outputs": [],
   "source": [
    "print(np.sum(B))\n",
    "print(B)\n",
    "print(B[:,0:3])\n",
    "print(np.linalg.inv(B[:,0:3]))"
   ]
  },
  {
   "cell_type": "code",
   "execution_count": null,
   "metadata": {},
   "outputs": [],
   "source": [
    "print(np.mean(B,axis=0))"
   ]
  },
  {
   "cell_type": "markdown",
   "metadata": {},
   "source": [
    "Note that all of these can be called with the keyword argument `axis` to perform the computation along the given axis instead of over the whole matrix. Using `np.sum()` as an example:"
   ]
  },
  {
   "cell_type": "code",
   "execution_count": null,
   "metadata": {},
   "outputs": [],
   "source": [
    "print(np.sum(B, axis=0))  # Over rows, i.e., compute the sum of each column."
   ]
  },
  {
   "cell_type": "code",
   "execution_count": null,
   "metadata": {},
   "outputs": [],
   "source": [
    "print(np.sum(B, axis=1))  # Same, but over columns."
   ]
  },
  {
   "cell_type": "markdown",
   "metadata": {},
   "source": [
    "### Other useful functions"
   ]
  },
  {
   "cell_type": "code",
   "execution_count": null,
   "metadata": {
    "scrolled": false
   },
   "outputs": [],
   "source": [
    "# Inverse\n",
    "print(D)\n",
    "print(np.linalg.inv(D))"
   ]
  },
  {
   "cell_type": "code",
   "execution_count": null,
   "metadata": {
    "scrolled": true
   },
   "outputs": [],
   "source": [
    "# Elementwise square root\n",
    "print(np.sqrt(B))"
   ]
  },
  {
   "cell_type": "code",
   "execution_count": null,
   "metadata": {},
   "outputs": [],
   "source": [
    "# Sort\n",
    "R = np.random.randint(10, size=[3, 5])\n",
    "print(R)\n",
    "print(np.sort(R, axis=0))  # Over rows, so it sorts each column."
   ]
  },
  {
   "cell_type": "markdown",
   "metadata": {},
   "source": [
    "## <a id='sec2.5:operators'> 2.5 Operators on matrices </a>\n",
    "\n",
    "NumPy array support most Python arithmetic and logic operators. We will show the most useful using these two matrices:"
   ]
  },
  {
   "cell_type": "code",
   "execution_count": 30,
   "metadata": {},
   "outputs": [
    {
     "data": {
      "text/plain": [
       "array([[1, 0, 0, 0],\n",
       "       [0, 2, 0, 0],\n",
       "       [0, 0, 4, 0],\n",
       "       [0, 0, 0, 8]])"
      ]
     },
     "execution_count": 30,
     "metadata": {},
     "output_type": "execute_result"
    }
   ],
   "source": [
    "M = np.array([[ 1,  2,  3,  4],\n",
    "              [ 5,  6,  7,  8],\n",
    "              [ 9, 10, 11, 12],\n",
    "              [13, 14, 15, 16],\n",
    "             ])\n",
    "D = np.diag([1, 2, 4, 8])\n",
    "D"
   ]
  },
  {
   "cell_type": "markdown",
   "metadata": {},
   "source": [
    "### Arithmetic operators\n",
    "\n",
    "Standard arithmetic operators still work on NumPy arrays in a _component-by-component_ or _element-by-element_ fashion:"
   ]
  },
  {
   "cell_type": "code",
   "execution_count": null,
   "metadata": {},
   "outputs": [],
   "source": [
    "print(D)\n",
    "print(M)\n",
    "\n",
    "print(D + M)"
   ]
  },
  {
   "cell_type": "code",
   "execution_count": null,
   "metadata": {},
   "outputs": [],
   "source": [
    "print(D - M)"
   ]
  },
  {
   "cell_type": "code",
   "execution_count": null,
   "metadata": {},
   "outputs": [],
   "source": [
    "print(D * M)"
   ]
  },
  {
   "cell_type": "code",
   "execution_count": null,
   "metadata": {},
   "outputs": [],
   "source": [
    "print(D / M)"
   ]
  },
  {
   "cell_type": "markdown",
   "metadata": {},
   "source": [
    "Please note the automatic casting to float when necessary, in the division just performed."
   ]
  },
  {
   "cell_type": "code",
   "execution_count": null,
   "metadata": {},
   "outputs": [],
   "source": [
    "print(D ** 2)  # Square. ** is Python's power operator."
   ]
  },
  {
   "cell_type": "markdown",
   "metadata": {},
   "source": [
    "Note that `**` can be used as an alternative method to perform the square root:"
   ]
  },
  {
   "cell_type": "code",
   "execution_count": null,
   "metadata": {},
   "outputs": [],
   "source": [
    "print(D ** 0.5)"
   ]
  },
  {
   "cell_type": "markdown",
   "metadata": {},
   "source": [
    "### Logical operators\n",
    "\n",
    "Logical operators also work component-by-component:"
   ]
  },
  {
   "cell_type": "code",
   "execution_count": null,
   "metadata": {},
   "outputs": [],
   "source": [
    "print(D > M)  # All other comparison operator such as <, <=, ==, >= and != work as well."
   ]
  },
  {
   "cell_type": "code",
   "execution_count": null,
   "metadata": {},
   "outputs": [],
   "source": [
    "print(D > 2)"
   ]
  },
  {
   "cell_type": "code",
   "execution_count": null,
   "metadata": {},
   "outputs": [],
   "source": [
    "print(M > 10)"
   ]
  },
  {
   "cell_type": "code",
   "execution_count": null,
   "metadata": {},
   "outputs": [],
   "source": [
    "# Logical AND\n",
    "print((D > 2) & (M > 10))  # Parentheses are important here!"
   ]
  },
  {
   "cell_type": "code",
   "execution_count": null,
   "metadata": {},
   "outputs": [],
   "source": [
    "# Logical OR\n",
    "print((D > 2) | (M > 10))"
   ]
  },
  {
   "cell_type": "code",
   "execution_count": null,
   "metadata": {},
   "outputs": [],
   "source": [
    "# Logical NOT\n",
    "print(~(D > 2))  # Obviously, in this case we could have written `D <= 2`."
   ]
  },
  {
   "cell_type": "markdown",
   "metadata": {},
   "source": [
    "# Note that you should **never** use the `==` operator to compare floats or array of floats (Python or in any other language). Use NumPy's `allclose()` instead:"
   ]
  },
  {
   "cell_type": "code",
   "execution_count": null,
   "metadata": {},
   "outputs": [],
   "source": [
    "print((.1 + .2) == .3)\n",
    "print(np.allclose(.1 + .2, .3))"
   ]
  },
  {
   "cell_type": "markdown",
   "metadata": {},
   "source": [
    "### Matrix multiplication is done with @"
   ]
  },
  {
   "cell_type": "code",
   "execution_count": null,
   "metadata": {},
   "outputs": [],
   "source": [
    "print(D)"
   ]
  },
  {
   "cell_type": "code",
   "execution_count": null,
   "metadata": {},
   "outputs": [],
   "source": [
    "print(M)"
   ]
  },
  {
   "cell_type": "code",
   "execution_count": null,
   "metadata": {},
   "outputs": [],
   "source": [
    "print(D @ M)"
   ]
  },
  {
   "cell_type": "code",
   "execution_count": null,
   "metadata": {},
   "outputs": [],
   "source": [
    "print(M @ D)  # Remember that matrix multiplication is not commutative!"
   ]
  },
  {
   "cell_type": "markdown",
   "metadata": {},
   "source": [
    "When multiplying a matrix with a vector (remember, vectors only have one dimension), NumPy automatically treats it as a column or row vector as appropriate:"
   ]
  },
  {
   "cell_type": "code",
   "execution_count": 35,
   "metadata": {},
   "outputs": [
    {
     "name": "stdout",
     "output_type": "stream",
     "text": [
      "[[ 1  2  3  4]\n",
      " [ 5  6  7  8]\n",
      " [ 9 10 11 12]\n",
      " [13 14 15 16]]\n",
      "[1 2 3 4]\n",
      "[ 30  70 110 150]\n"
     ]
    },
    {
     "data": {
      "text/plain": [
       "'\\nits doing \\n1 * 1 + 2 * 2 + 3 * 3 + 4 * 4\\n+\\n1 * 5 + 2 * 6 + 3 * 7 + 4 * 8\\n+\\n1 * 9 + 2 * 10 + 3 * 11 + 4 * 12\\netc\\n'"
      ]
     },
     "execution_count": 35,
     "metadata": {},
     "output_type": "execute_result"
    }
   ],
   "source": [
    "v = np.array([1, 2, 3, 4])\n",
    "print(M)\n",
    "print(v)\n",
    "print(M @ v)\n",
    "\"\"\"\n",
    "its doing \n",
    "1 * 1 + 2 * 2 + 3 * 3 + 4 * 4\n",
    "+\n",
    "1 * 5 + 2 * 6 + 3 * 7 + 4 * 8\n",
    "+\n",
    "1 * 9 + 2 * 10 + 3 * 11 + 4 * 12\n",
    "etc\n",
    "\"\"\""
   ]
  },
  {
   "cell_type": "code",
   "execution_count": 36,
   "metadata": {},
   "outputs": [
    {
     "name": "stdout",
     "output_type": "stream",
     "text": [
      "[ 90 100 110 120]\n"
     ]
    }
   ],
   "source": [
    "print(v @ M)"
   ]
  },
  {
   "cell_type": "markdown",
   "metadata": {},
   "source": [
    "Compare it with the following:"
   ]
  },
  {
   "cell_type": "code",
   "execution_count": 33,
   "metadata": {},
   "outputs": [
    {
     "name": "stdout",
     "output_type": "stream",
     "text": [
      "[[ 90 100 110 120]]\n"
     ]
    }
   ],
   "source": [
    "v_row = np.array([[1, 2, 3, 4]])\n",
    "print(v_row @ M)  # This is the same...\n",
    "#print(M @ v_row)  # ... but this raises an error!"
   ]
  },
  {
   "cell_type": "markdown",
   "metadata": {},
   "source": [
    "Matrix multiplication can be also used to compute the dot product between two vectors:"
   ]
  },
  {
   "cell_type": "code",
   "execution_count": 37,
   "metadata": {},
   "outputs": [
    {
     "name": "stdout",
     "output_type": "stream",
     "text": [
      "300\n"
     ]
    }
   ],
   "source": [
    "u = np.array([10, 20, 30, 40])\n",
    "print(u @ v)"
   ]
  },
  {
   "cell_type": "markdown",
   "metadata": {},
   "source": [
    "### Concatenating\n",
    "\n",
    "You can concatenate multiple vectors using the function `np.concatenate()`:"
   ]
  },
  {
   "cell_type": "code",
   "execution_count": 38,
   "metadata": {},
   "outputs": [
    {
     "name": "stdout",
     "output_type": "stream",
     "text": [
      "[1 2 3 4]\n",
      "[1 2 3 4 1 2 3 4]\n",
      "[1 2 3 4 1 2 3 4 1 2 3 4]\n"
     ]
    }
   ],
   "source": [
    "print(v)\n",
    "vv = np.concatenate([v, v])\n",
    "print(vv)\n",
    "print(np.concatenate([v, v, v]))  # You can concatenate as many arrays as you want."
   ]
  },
  {
   "cell_type": "markdown",
   "metadata": {},
   "source": [
    "This also works on matrices:"
   ]
  },
  {
   "cell_type": "code",
   "execution_count": 39,
   "metadata": {},
   "outputs": [
    {
     "name": "stdout",
     "output_type": "stream",
     "text": [
      "[[1 0 0 0]\n",
      " [0 2 0 0]\n",
      " [0 0 4 0]\n",
      " [0 0 0 8]]\n",
      "[[1 0 0 0]\n",
      " [0 2 0 0]\n",
      " [0 0 4 0]\n",
      " [0 0 0 8]\n",
      " [1 0 0 0]\n",
      " [0 2 0 0]\n",
      " [0 0 4 0]\n",
      " [0 0 0 8]]\n"
     ]
    }
   ],
   "source": [
    "print(D)\n",
    "print(np.concatenate([D, D]))"
   ]
  },
  {
   "cell_type": "markdown",
   "metadata": {},
   "source": [
    "You may have notices that the default behaviour is concatenating over the first dimension, which for matrix means along rows. You can change it through the keyword `axis`:"
   ]
  },
  {
   "cell_type": "code",
   "execution_count": null,
   "metadata": {},
   "outputs": [],
   "source": [
    "print(np.concatenate([D, D], axis=0))  # This is the default behaviour, i.e., the same as above.\n",
    "print(np.concatenate([D, D], axis=1))  # This concatenates along columns instead."
   ]
  },
  {
   "cell_type": "markdown",
   "metadata": {},
   "source": [
    "You can also concatenate matrix and vectors, as long as it makes sense:"
   ]
  },
  {
   "cell_type": "code",
   "execution_count": null,
   "metadata": {},
   "outputs": [],
   "source": [
    "Dt = D[0,0:4]\n",
    "print(v_row.shape, Dt.shape)\n",
    "print(np.concatenate([v_row, Dt], axis=0))  # This works.\n",
    "print(np.concatenate([v_row, Dt[:, 0]], axis=1))  # This doesn't."
   ]
  },
  {
   "cell_type": "markdown",
   "metadata": {},
   "source": [
    "However, you cannot concatenate a 1-dimensional vector with a matrix:"
   ]
  },
  {
   "cell_type": "code",
   "execution_count": null,
   "metadata": {},
   "outputs": [],
   "source": [
    "print(v.shape, D.shape)\n",
    "#print(np.concatenate([v, D], axis=0))  # This raises an error."
   ]
  },
  {
   "cell_type": "markdown",
   "metadata": {},
   "source": [
    "### Broadcasting\n",
    "\n",
    "Broadcasting is a handy feature of NumPy that relaxes shape constraints. The simplest case of broadcasting is using a constant with a binary matrix operator:"
   ]
  },
  {
   "cell_type": "code",
   "execution_count": 40,
   "metadata": {},
   "outputs": [
    {
     "name": "stdout",
     "output_type": "stream",
     "text": [
      "[[1 0 0 0]\n",
      " [0 2 0 0]\n",
      " [0 0 4 0]\n",
      " [0 0 0 8]]\n",
      "[[ 6  5  5  5]\n",
      " [ 5  7  5  5]\n",
      " [ 5  5  9  5]\n",
      " [ 5  5  5 13]]\n"
     ]
    }
   ],
   "source": [
    "print(D)\n",
    "print(D + 5)"
   ]
  },
  {
   "cell_type": "markdown",
   "metadata": {},
   "source": [
    "As you can see, the constant is added to every element of the matrix and you don't need to create a 4$\\times$4 matrix full of 5 to get the same result.\n",
    "\n",
    "Broadcasting also applies to dimensions of size 1. For example:"
   ]
  },
  {
   "cell_type": "code",
   "execution_count": 41,
   "metadata": {},
   "outputs": [
    {
     "name": "stdout",
     "output_type": "stream",
     "text": [
      "[[1 2 3 4]]\n",
      "[[1 0 0 0]\n",
      " [0 2 0 0]\n",
      " [0 0 4 0]\n",
      " [0 0 0 8]]\n",
      "(4, 4) (1, 4)\n",
      "[[ 2  2  3  4]\n",
      " [ 1  4  3  4]\n",
      " [ 1  2  7  4]\n",
      " [ 1  2  3 12]]\n"
     ]
    }
   ],
   "source": [
    "print(v_row)\n",
    "print(D)\n",
    "print(D.shape, v_row.shape)\n",
    "print(D + v_row)"
   ]
  },
  {
   "cell_type": "markdown",
   "metadata": {},
   "source": [
    "Since vector `v_row` was added to the 4$ \\times $4 matrix `D` has been implicitly expanded to a 4$ \\times $4 matrix by duplicating it across dimension 0, which has size 1. If you want to check the result explicitly you can do:"
   ]
  },
  {
   "cell_type": "code",
   "execution_count": 51,
   "metadata": {},
   "outputs": [
    {
     "name": "stdout",
     "output_type": "stream",
     "text": [
      "(4, 4)\n",
      "[[1 2 3 4]\n",
      " [1 2 3 4]\n",
      " [1 2 3 4]]\n"
     ]
    }
   ],
   "source": [
    "print(D.shape)\n",
    "print(np.broadcast_to(v_row, (3,4)))"
   ]
  },
  {
   "cell_type": "markdown",
   "metadata": {},
   "source": [
    "When broadcasting to a higher dimension, empty dimensions will be *prepended* to the array. For instance, adding a vector with shape `(n,)` to a two-dimensional matrix is the same as adding a (row) vector with shape `(1, n)` - note that this will be broadcast differently from a (column) vector with shape `(n, 1)`! This also means that a vector with shape `(n,)` can be broadcast to `(m, n)` but not to `(n, m)`.\n",
    "\n",
    "Consider for example:"
   ]
  },
  {
   "cell_type": "code",
   "execution_count": 53,
   "metadata": {
    "scrolled": true
   },
   "outputs": [
    {
     "name": "stdout",
     "output_type": "stream",
     "text": [
      "[1 2 3 4]\n",
      "[[1 0 0 0]\n",
      " [0 2 0 0]\n",
      " [0 0 4 0]\n",
      " [0 0 0 8]]\n",
      "(4,)\n",
      "[[ 2  2  3  4]\n",
      " [ 1  4  3  4]\n",
      " [ 1  2  7  4]\n",
      " [ 1  2  3 12]]\n"
     ]
    }
   ],
   "source": [
    "print(v)\n",
    "print(D)\n",
    "print(v.shape)\n",
    "print(D + v)"
   ]
  },
  {
   "cell_type": "markdown",
   "metadata": {},
   "source": [
    "Thus, you need to be careful when doing this. You might mess up when dealing with column vectors:"
   ]
  },
  {
   "cell_type": "code",
   "execution_count": null,
   "metadata": {},
   "outputs": [],
   "source": [
    "print(D + v_row)  # Adding a row vector\n",
    "print(D + v_row.T)  # Adding a column vector. The result is different.\n",
    "print()\n",
    "print(D + v)  # Adding a 1-dimensional vector. It is treated as a row vector.\n",
    "print(D + v.T)  # Still adding a 1-dimensional vector!"
   ]
  },
  {
   "cell_type": "markdown",
   "metadata": {},
   "source": [
    "### Adding and removing dimensions\n",
    "\n",
    "NumPy allows you to easily expand an array by adding dimensions of size 1:"
   ]
  },
  {
   "cell_type": "code",
   "execution_count": 61,
   "metadata": {},
   "outputs": [
    {
     "name": "stdout",
     "output_type": "stream",
     "text": [
      "(4,)\n",
      "(1, 4)\n",
      "[[1 2 3 4]]\n",
      "(4, 1, 1, 1)\n",
      "[[[[1]]]\n",
      "\n",
      "\n",
      " [[[2]]]\n",
      "\n",
      "\n",
      " [[[3]]]\n",
      "\n",
      "\n",
      " [[[4]]]]\n"
     ]
    }
   ],
   "source": [
    "print(v.shape)\n",
    "\n",
    "v_exp_row = v[None, :]  # Add dimension 0.\n",
    "print(v_exp_row.shape)\n",
    "print(v_exp_row)  # Content is the same.\n",
    "\n",
    "v_exp_column = v[:, None, None, None]  # Add dimension 1.\n",
    "print(v_exp_column.shape)\n",
    "print(v_exp_column)"
   ]
  },
  {
   "cell_type": "markdown",
   "metadata": {},
   "source": [
    "This is mostly useful to 1) avoid mistakes when broadcasting and 2) concatenating:"
   ]
  },
  {
   "cell_type": "code",
   "execution_count": 62,
   "metadata": {},
   "outputs": [
    {
     "name": "stdout",
     "output_type": "stream",
     "text": [
      "[[1 2 3 4]\n",
      " [1 0 0 0]\n",
      " [0 2 0 0]\n",
      " [0 0 4 0]\n",
      " [0 0 0 8]]\n"
     ]
    }
   ],
   "source": [
    "#print(np.concatenate([v, D], axis=0))  # This raises an error.\n",
    "print(np.concatenate([v[None, :], D], axis=0))  # This works."
   ]
  },
  {
   "cell_type": "markdown",
   "metadata": {},
   "source": [
    "You can remove dimensions of size 1 by using the `squeeze` function:"
   ]
  },
  {
   "cell_type": "code",
   "execution_count": 63,
   "metadata": {},
   "outputs": [
    {
     "name": "stdout",
     "output_type": "stream",
     "text": [
      "(1, 4)\n",
      "(4,)\n",
      "[1 2 3 4]\n"
     ]
    }
   ],
   "source": [
    "print(v_row.shape)\n",
    "v_row_reduced = np.squeeze(v_row)\n",
    "print(v_row_reduced.shape)\n",
    "print(v_row_reduced)  # Content is the same."
   ]
  },
  {
   "cell_type": "markdown",
   "metadata": {},
   "source": [
    "# <a id='sec3'> 3. Plotting </a>\n",
    "\n",
    "The `matplotlib` library contains a range of useful functions for data visualisation."
   ]
  },
  {
   "cell_type": "code",
   "execution_count": 65,
   "metadata": {},
   "outputs": [],
   "source": [
    "from matplotlib import pyplot as plt"
   ]
  },
  {
   "cell_type": "markdown",
   "metadata": {},
   "source": [
    "## Standard plot"
   ]
  },
  {
   "cell_type": "code",
   "execution_count": 66,
   "metadata": {},
   "outputs": [
    {
     "data": {
      "image/png": "[encoded data removed]",
      "text/plain": [
       "<Figure size 640x480 with 1 Axes>"
      ]
     },
     "metadata": {},
     "output_type": "display_data"
    }
   ],
   "source": [
    "x = np.arange(10)\n",
    "y = x ** 2\n",
    "plt.plot(x, y)\n",
    "plt.xlabel('x')\n",
    "plt.ylabel('square')\n",
    "plt.title('A plot')\n",
    "plt.show()"
   ]
  },
  {
   "cell_type": "markdown",
   "metadata": {},
   "source": [
    "## Change plot style"
   ]
  },
  {
   "cell_type": "code",
   "execution_count": 76,
   "metadata": {},
   "outputs": [
    {
     "data": {
      "image/png": "[encoded data removed]",
      "text/plain": [
       "<Figure size 640x480 with 1 Axes>"
      ]
     },
     "metadata": {},
     "output_type": "display_data"
    }
   ],
   "source": [
    "plt.plot(x, y, 'x--r')  # `r` stands for 'red', `--` means dashed line, `o` enables round markers.\n",
    "plt.xlabel('x')\n",
    "plt.ylabel('square')\n",
    "plt.show()"
   ]
  },
  {
   "cell_type": "markdown",
   "metadata": {},
   "source": [
    "You can find a comprehensive list of possible options in the [official documentation](https://matplotlib.org/3.1.1/api/_as_gen/matplotlib.pyplot.plot.html#matplotlib.pyplot.plot) (scroll down a bit)."
   ]
  },
  {
   "cell_type": "markdown",
   "metadata": {},
   "source": [
    "## Multiple plots"
   ]
  },
  {
   "cell_type": "code",
   "execution_count": 79,
   "metadata": {},
   "outputs": [
    {
     "data": {
      "image/png": "[encoded data removed]",
      "text/plain": [
       "<Figure size 640x480 with 1 Axes>"
      ]
     },
     "metadata": {},
     "output_type": "display_data"
    }
   ],
   "source": [
    "# In same figure. Note that Matplotlib automatically assigns different colours.\n",
    "from math import pi\n",
    "x = np.arange(0, 2*pi, 0.01)  # From 0 to 2pi with step 0.01.\n",
    "y_cos = np.cos(x)\n",
    "plt.plot(x, y_cos, label='Cosine')\n",
    "\n",
    "y_sin = np.sin(x)\n",
    "plt.plot(x, y_sin, label='Sine')\n",
    "\n",
    "plt.xlabel('x')\n",
    "plt.legend()\n",
    "\n",
    "plt.show()"
   ]
  },
  {
   "cell_type": "code",
   "execution_count": 93,
   "metadata": {},
   "outputs": [
    {
     "data": {
      "image/png": "[encoded data removed]",
      "text/plain": [
       "<Figure size 640x480 with 1 Axes>"
      ]
     },
     "metadata": {},
     "output_type": "display_data"
    },
    {
     "data": {
      "image/png": "[encoded data removed]",
      "text/plain": [
       "<Figure size 640x480 with 1 Axes>"
      ]
     },
     "metadata": {},
     "output_type": "display_data"
    }
   ],
   "source": [
    "# In different figures\n",
    "plt.plot(x, y_cos, '--', label='Cosine')\n",
    "plt.xlabel('x')\n",
    "plt.legend()\n",
    "\n",
    "plt.figure()\n",
    "\n",
    "plt.plot(x, y_sin, 'r', label='Sine')\n",
    "plt.xlabel('x')\n",
    "plt.legend()\n",
    "\n",
    "plt.show()"
   ]
  },
  {
   "cell_type": "markdown",
   "metadata": {},
   "source": [
    "## Error bars"
   ]
  },
  {
   "cell_type": "code",
   "execution_count": 107,
   "metadata": {},
   "outputs": [
    {
     "data": {
      "image/png": "[encoded data removed]",
      "text/plain": [
       "<Figure size 640x480 with 1 Axes>"
      ]
     },
     "metadata": {},
     "output_type": "display_data"
    }
   ],
   "source": [
    "x = np.arange(0, 25, 1)\n",
    "y = x ** 2\n",
    "y_err = np.random.rand(y.size) * 5  # A vector of random numbers in [0, 5) with the same length as y\n",
    "plt.errorbar(x, y, yerr=y_err, ecolor='r')\n",
    "plt.show()"
   ]
  }
 ],
 "metadata": {
  "kernelspec": {
   "display_name": "Python 3 (ipykernel)",
   "language": "python",
   "name": "python3"
  },
  "language_info": {
   "codemirror_mode": {
    "name": "ipython",
    "version": 3
   },
   "file_extension": ".py",
   "mimetype": "text/x-python",
   "name": "python",
   "nbconvert_exporter": "python",
   "pygments_lexer": "ipython3",
   "version": "3.10.8"
  }
 },
 "nbformat": 4,
 "nbformat_minor": 4
}
