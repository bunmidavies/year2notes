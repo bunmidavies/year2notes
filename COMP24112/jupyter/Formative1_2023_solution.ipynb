{
 "cells": [
  {
   "cell_type": "markdown",
   "metadata": {},
   "source": [
    "## Lab 1: Python Exercises for COMP24112\n",
    "\n",
    "# 1. Instruction\n",
    "\n",
    "There are a total of 12 exercises. You are asked to complete all of them. Print out the final results, and comment if needed. Make sure your results can be reproduced by your TA using Restart & Run All.\n",
    "You are **only** allowed to use libraries in the provided file “Instruction on Mathematical Programming in Python for COMP24112”. Additionally, everything asked to add to a report should be included in one single .pdf file (Arial font 11, maximum 1 page)."
   ]
  },
  {
   "cell_type": "markdown",
   "metadata": {},
   "source": [
    "## 2. Exercises\n",
    "\n",
    "Start with the provided supporting tutorial \"Instruction on Mathematical Programming in Python\" and \"Maths Knowledge Overview - COMP24112\". After you are familiar with the basics, you can proceed to the exercises.\n"
   ]
  },
  {
   "cell_type": "markdown",
   "metadata": {},
   "source": [
    "### Exercise 1 (1 mark - easy)\n",
    "\n",
    "Input a 4 by 4 magic square matrix \n",
    "$$\\textbf{A}=\n",
    "\\left[\n",
    "\\begin{array}{cccc}\n",
    "        16   &   3 &  2 & 13 \\\\\n",
    "        5    &  10 & 11 &  8 \\\\\n",
    "        9    &   6 &  7 & 12 \\\\\n",
    "        4    &  15 & 14 &  1 \\\\\n",
    "\\end{array}\n",
    "\\right]. \n",
    "$$  \n",
    "\n",
    "Generate a 4 by 4 matrix $\\textbf{B}$ with random integer entries. Set $\\textbf{C}$ to be a 4 by 4 matrix with 1's on the diagonal and 0's elsewhere. Check to see that, $\\textbf{A}$, $\\textbf{B}$ and $\\textbf{C}$ are all present. Compute the sum of the third column of $\\textbf{A}$."
   ]
  },
  {
   "cell_type": "code",
   "execution_count": 2,
   "metadata": {},
   "outputs": [
    {
     "name": "stdout",
     "output_type": "stream",
     "text": [
      "A [[16  3  2 13]\n",
      " [ 5 10 11  8]\n",
      " [ 9  6  7 12]\n",
      " [ 4 15 14  1]]\n",
      "B [[5 9 2 7]\n",
      " [2 0 7 9]\n",
      " [7 8 1 7]\n",
      " [3 6 7 7]]\n",
      "C [[1. 0. 0. 0.]\n",
      " [0. 1. 0. 0.]\n",
      " [0. 0. 1. 0.]\n",
      " [0. 0. 0. 1.]]\n",
      "A sum 34\n"
     ]
    }
   ],
   "source": [
    "# Write your code here\n",
    "\n",
    "import numpy as np\n",
    "\n",
    "A = np.array([[16, 3, 2, 13],\n",
    "              [5, 10, 11, 8],\n",
    "              [9, 6, 7, 12],\n",
    "              [4, 15, 14, 1]])\n",
    "B = np.random.randint(0, 10, size=(4, 4))\n",
    "C = np.eye(4)\n",
    "\n",
    "print(\"A\", A)\n",
    "print(\"B\", B)\n",
    "print(\"C\", C)\n",
    "\n",
    "print(\"A sum\", A[:,3].sum())"
   ]
  },
  {
   "cell_type": "markdown",
   "metadata": {},
   "source": [
    "### Exercise 2 (1 mark - easy)\n",
    "\n",
    "Generate a 4 by 2 matrix consisting of the 1st and 3rd columns of $\\textbf{B}$ using the colon operator."
   ]
  },
  {
   "cell_type": "code",
   "execution_count": 2,
   "metadata": {},
   "outputs": [
    {
     "name": "stdout",
     "output_type": "stream",
     "text": [
      "[[1 0]\n",
      " [4 4]\n",
      " [3 7]\n",
      " [9 4]]\n"
     ]
    }
   ],
   "source": [
    "# Write your code here\n",
    "\n",
    "B_odd = B[:,0::2]\n",
    "print(B_odd)"
   ]
  },
  {
   "cell_type": "markdown",
   "metadata": {},
   "source": [
    "### Exercise 3 (1 mark - easy)\n",
    "\n",
    "Generate a 4 by 2 matrix containing two different columns that are randomly selected from the columns of $\\textbf{B}$. Generate a 3 by 4 matrix containing three different rows that are randomly selected from the rows of $\\textbf{B}$. "
   ]
  },
  {
   "cell_type": "code",
   "execution_count": 3,
   "metadata": {},
   "outputs": [
    {
     "name": "stdout",
     "output_type": "stream",
     "text": [
      "Random columns\n",
      "[[8 1]\n",
      " [1 4]\n",
      " [0 3]\n",
      " [3 9]]\n",
      "Random rows\n",
      "[[1 0 0 8]\n",
      " [9 9 4 3]\n",
      " [3 3 7 0]]\n"
     ]
    }
   ],
   "source": [
    "# Write your code here\n",
    "\n",
    "print(\"Random columns\")\n",
    "print(B[:,np.random.choice(4, 2, replace=False)])\n",
    "print(\"Random rows\")\n",
    "print(B[np.random.choice(4, 3, replace=False),:])"
   ]
  },
  {
   "cell_type": "markdown",
   "metadata": {},
   "source": [
    "### Exercise 4 (1 mark - easy)\n",
    "\n",
    "The matrix $\\textbf{A}$ is a magic square, in which the sum of each row, each column, and each diagonal is the same. First check whether $\\textbf{A}$ satisfies this  magic square condition. Then sort the 2nd row of $\\textbf{A}$ and print this sorted row using appropriate commands."
   ]
  },
  {
   "cell_type": "code",
   "execution_count": 4,
   "metadata": {},
   "outputs": [
    {
     "name": "stdout",
     "output_type": "stream",
     "text": [
      "Column sum\n",
      "[34 34 34 34]\n",
      "Row sum\n",
      "[34 34 34 34]\n",
      "Diagonal 1\n",
      "34\n",
      "Diagonal 2\n",
      "34\n",
      "The sorted row is\n",
      "[ 5  8 10 11]\n"
     ]
    }
   ],
   "source": [
    "# Write your code here\n",
    "\n",
    "print(\"Column sum\")\n",
    "print(A.sum(axis=0))\n",
    "print(\"Row sum\")\n",
    "print(A.sum(axis=1))\n",
    "print(\"Diagonal 1\")\n",
    "print(np.diag(A).sum())\n",
    "print(\"Diagonal 2\")\n",
    "print(np.diag(np.fliplr(A)).sum())\n",
    "\n",
    "A[1].sort()\n",
    "print('The sorted row is')\n",
    "print(A[1])"
   ]
  },
  {
   "cell_type": "markdown",
   "metadata": {},
   "source": [
    "### Exercise 5 (1 mark - easy)\n",
    "\n",
    "Set $\\textbf{B}$ as an identity matrix, multiplication of $\\textbf{A}$ by $\\textbf{B}$ should yield $\\textbf{A}$. Check this. What does component by component multipilication give? Check this. "
   ]
  },
  {
   "cell_type": "code",
   "execution_count": 5,
   "metadata": {},
   "outputs": [
    {
     "name": "stdout",
     "output_type": "stream",
     "text": [
      "A@B = A True\n",
      "[[16.  0.  0.  0.]\n",
      " [ 0.  8.  0.  0.]\n",
      " [ 0.  0.  7.  0.]\n",
      " [ 0.  0.  0.  1.]]\n"
     ]
    }
   ],
   "source": [
    "# Write your code here\n",
    "\n",
    "B = np.eye(4)\n",
    "print(\"A@B = A\", (A @ B == A).all())\n",
    "print(A * B)"
   ]
  },
  {
   "cell_type": "markdown",
   "metadata": {},
   "source": [
    "### Exercise 6 (1 mark - easy)\n",
    "\n",
    "Count the number of values of $\\textbf{A}$ which are greater than 10 using logical operators."
   ]
  },
  {
   "cell_type": "code",
   "execution_count": 6,
   "metadata": {},
   "outputs": [
    {
     "name": "stdout",
     "output_type": "stream",
     "text": [
      "6\n"
     ]
    }
   ],
   "source": [
    "# Write your code here\n",
    "\n",
    "print((A > 10).sum())"
   ]
  },
  {
   "cell_type": "markdown",
   "metadata": {},
   "source": [
    "### Exercise 7 (1 mark - easy)\n",
    "\n",
    "The reciprocal of a number $x$ is  $1/x$. Use `for` loops to  create  a new matrix $\\textbf{B}$, where each element in $\\textbf{B}$ is the reciprocal of the corresponding element in $\\textbf{A}$, and sum the columns of $\\textbf{B}$. Now create the same matrix $\\textbf{B}$ and calculate its column sums in a single operation, using matrix commands, without a `for` loop."
   ]
  },
  {
   "cell_type": "code",
   "execution_count": 7,
   "metadata": {},
   "outputs": [
    {
     "name": "stdout",
     "output_type": "stream",
     "text": [
      "For loop\n",
      "[[0.0625     0.33333333 0.5        0.07692308]\n",
      " [0.2        0.125      0.1        0.09090909]\n",
      " [0.11111111 0.16666667 0.14285714 0.08333333]\n",
      " [0.25       0.06666667 0.07142857 1.        ]]\n",
      "One operation\n",
      "[[0.0625     0.33333333 0.5        0.07692308]\n",
      " [0.2        0.125      0.1        0.09090909]\n",
      " [0.11111111 0.16666667 0.14285714 0.08333333]\n",
      " [0.25       0.06666667 0.07142857 1.        ]]\n"
     ]
    }
   ],
   "source": [
    "# Write your code here\n",
    "\n",
    "D1 = np.zeros((4, 4))\n",
    "for i in range(4):\n",
    "    for j in range(4):\n",
    "        D1[i,j] = 1 / A[i,j]\n",
    "\n",
    "D2 = 1 / A\n",
    "\n",
    "print(\"For loop\")\n",
    "print(D1)\n",
    "print(\"One operation\")\n",
    "print(D2)"
   ]
  },
  {
   "cell_type": "markdown",
   "metadata": {},
   "source": [
    "### Exercise 8 (1 mark - easy)\n",
    "\n",
    "Plot the log and square root of the integers from $1$ to $100$ in one single figure. Provide axis names, legend and title for the figure."
   ]
  },
  {
   "cell_type": "code",
   "execution_count": 4,
   "metadata": {},
   "outputs": [
    {
     "data": {
      "image/png": "[encoded data removed]",
      "text/plain": [
       "<Figure size 432x288 with 1 Axes>"
      ]
     },
     "metadata": {
      "needs_background": "light"
     },
     "output_type": "display_data"
    }
   ],
   "source": [
    "# Write your code here\n",
    "\n",
    "import matplotlib.pyplot as plt\n",
    "\n",
    "plt.plot(np.arange(1, 101), np.log(np.arange(1, 101)),\"-b\", label=\"$y = \\log x$\")\n",
    "plt.plot(np.arange(1, 101), np.sqrt(np.arange(1, 101)),\"-r\", label=\"$y = \\sqrt{x}$\")\n",
    "plt.xlabel(\"$x$\")\n",
    "plt.ylabel(\"$y$\")\n",
    "plt.legend(loc=\"upper left\")\n",
    "plt.title('log and square root of the integers from $1$ to $100$')\n",
    "plt.show()"
   ]
  },
  {
   "cell_type": "markdown",
   "metadata": {},
   "source": [
    "### Exercise 9 (2 marks - normal)\n",
    "\n",
    "Let $\\boldsymbol{y} $ be an $N$-dimensional column vector with $y_i$ denoting its $i$-th element. \n",
    "Let $\\textbf{X}$ be an $N$ by $D$ matrix and $\\boldsymbol{x}_{i}$ be a column vector which is the transpose of the $i$-th row of $\\textbf{X}$.\n",
    "Let $\\boldsymbol{w}$ be a $D$-dimensional column vector. \n",
    "Choose a value for $N$ and a value for $D$ as you like, generate $\\boldsymbol{y}$, $\\textbf{X}$ and $\\boldsymbol{w}$ containing random elements.\n",
    "Use matrix operations and `for` loops to verify the following two quantities are equal. \n",
    "$$ \\boldsymbol{g}_1 = \\textbf{X}^T\\textbf{X} \\boldsymbol{w}-\\textbf{X}^T \\boldsymbol{y}$$\n",
    "$$ \\boldsymbol{g}_2 = \\sum_{i=1}^N \\left(\\boldsymbol{x}_{i}^T \\boldsymbol{w}- y_i\\right) \\boldsymbol{x}_{i}$$\n",
    "\n",
    "Define an example case for your convenience with $N=2$ and $D=3$, calculate $ \\boldsymbol{g}_1$ and $\\boldsymbol{g}_2$ by hand and write it down in the report."
   ]
  },
  {
   "cell_type": "code",
   "execution_count": 9,
   "metadata": {},
   "outputs": [
    {
     "name": "stdout",
     "output_type": "stream",
     "text": [
      "[ -8.08665649  -1.50020512  -8.15481682   8.17169894  13.73905664\n",
      "  -8.7963687   27.82231241  -7.90820062 -30.24555643 -23.10036809\n",
      " -18.8356217   -5.5180616   20.68407775 -17.0850368  -14.10247052\n",
      " -15.82302251   2.13977281  -0.70011123   0.90692453  -0.64325   ]\n",
      "[ -8.08665649  -1.50020512  -8.15481682   8.17169894  13.73905664\n",
      "  -8.7963687   27.82231241  -7.90820062 -30.24555643 -23.10036809\n",
      " -18.8356217   -5.5180616   20.68407775 -17.0850368  -14.10247052\n",
      " -15.82302251   2.13977281  -0.70011123   0.90692453  -0.64325   ]\n"
     ]
    }
   ],
   "source": [
    "# Write your code here\n",
    "\n",
    "y = np.random.randn(10)\n",
    "X = np.random.randn(10, 20)\n",
    "w = np.random.randn(20)\n",
    "\n",
    "g1 = X.T @ X @ w - X.T @ y\n",
    "g2 = 0\n",
    "\n",
    "for i in range(y.shape[0]):\n",
    "    g2 += (X[i] @ w - y[i]) * X[i]\n",
    "    \n",
    "print(g1)\n",
    "print(g2)"
   ]
  },
  {
   "cell_type": "markdown",
   "metadata": {},
   "source": [
    "### Exercise 10 (2 marks - normal)\n",
    "\n",
    "Calculate the derivative of function $f(x) = x^2+3x+1$ at 10 randomly chosen values of $x$. Write a user-defined function for calculating an approximated derivative of an input function based on \n",
    "\n",
    "$$\\frac{d f(x)}{d x}=\\frac{f(x+\\Delta x)-f(x)}{\\Delta x} ~ .$$\n",
    "\n",
    "Use this function to calculate the approximated derivative for $f(x) = x^2+3x+1$ at the same 10 chosen values of $x$ for $\\Delta x = 1$, $\\Delta x = 0.1$ and $\\Delta x = 0.001$. Plot your derivatives and the approximated derivatives in the same figure. Provide axis names, legend and title for the figure. Which $\\Delta x$ gives you a better approximation? Analyse how the choice of $\\Delta x$ affects the approximation in the report?"
   ]
  },
  {
   "cell_type": "code",
   "execution_count": 10,
   "metadata": {},
   "outputs": [],
   "source": [
    "# Write your code here\n",
    "\n",
    "def approx_deriv(f, x, dx):\n",
    "    return (f(x + dx) - f(x)) / dx\n",
    "\n",
    "f = lambda x: x**2 + 3*x + 1\n",
    "\n",
    "x = np.random.randn(10)\n",
    "x.sort()\n",
    "\n",
    "f_prim = 2 * x + 3\n",
    "f_prim_app1 = approx_deriv(f, x, 1)\n",
    "f_prim_app2 = approx_deriv(f, x, 0.1)\n",
    "f_prim_app3 = approx_deriv(f, x, 0.001)"
   ]
  },
  {
   "cell_type": "code",
   "execution_count": 11,
   "metadata": {},
   "outputs": [
    {
     "data": {
      "image/png": "[encoded data removed]",
      "text/plain": [
       "<Figure size 432x288 with 1 Axes>"
      ]
     },
     "metadata": {
      "needs_background": "light"
     },
     "output_type": "display_data"
    },
    {
     "name": "stdout",
     "output_type": "stream",
     "text": [
      "0.001 gives the best approximation\n"
     ]
    }
   ],
   "source": [
    "import matplotlib.pyplot as plt\n",
    "\n",
    "plt.plot(x, f_prim, label=\"True derivative\")\n",
    "plt.plot(x, f_prim_app1, label=\"$\\Delta x = 1$\")\n",
    "plt.plot(x, f_prim_app2, label=\"$\\Delta x = 0.1$\")\n",
    "plt.plot(x, f_prim_app3, label=\"$\\Delta x = 0.001$\")\n",
    "plt.legend()\n",
    "plt.show()\n",
    "print( '0.001 gives the best approximation')"
   ]
  },
  {
   "cell_type": "markdown",
   "metadata": {},
   "source": [
    "### Exercise 11 (3 marks - normal)\n",
    "\n",
    "Given two $d$-dimensional data points $\\boldsymbol{x} = [x_1,x_2,\\dots,x_d]$ and $\\boldsymbol{y}=[y_1,y_2,\\dots,y_d]$. The Euclidean distance between these two points is computed as \n",
    "\n",
    "$$\n",
    "d(\\boldsymbol{x},\\boldsymbol{y}) = \\sqrt{\\sum_{i=1}^d (x_i-y_i)^2} = \\sqrt{\\boldsymbol{x}\\boldsymbol{x}^T - 2\\boldsymbol{x}\\boldsymbol{y}^T+\\boldsymbol{y}\\boldsymbol{y}^T}.\n",
    "$$\n",
    "\n",
    "Generate $5$ random $3$-dimensional points and store them in a $5\\times 3$ matrix called $\\textbf{A}$ ($5$ rows and $3$ columns). Generate another $8$ random $3$-dimensional points and store them in a $8\\times 3$ matrix called $\\textbf{B}$ ($8$ rows and $3$ columns). Calculate the Euclidean distance between the $5$ and $8$ points, and store these distances in a $5\\times 8$ matrix called $\\textbf{D}$ using `for` loops ($5$ rows and $8$ colums).\n",
    "\n",
    "* Calculate the Euclidean distances between the 5 and 8 points, and store these distances in a $5\\times 8$ matrix called $\\boldsymbol{D}$ using `for` loops (5 rows and 8 columns). \n",
    "* Calculate  $\\boldsymbol{D}$ using algebraic matrix operations without using any loop.  Explain how you derive the solution in the report. \n"
   ]
  },
  {
   "cell_type": "code",
   "execution_count": 12,
   "metadata": {},
   "outputs": [
    {
     "name": "stdout",
     "output_type": "stream",
     "text": [
      "[[0.43458846 0.63130544 0.87146425 0.69365485 0.88531954 0.8816282\n",
      "  0.7808823  0.42352075]\n",
      " [0.43245138 1.00288852 0.7108903  0.72367675 0.6853082  0.61426288\n",
      "  0.98642556 0.2336945 ]\n",
      " [0.68608187 0.52824693 0.37976832 0.93825666 0.40749519 0.58189592\n",
      "  0.36107082 0.59242649]\n",
      " [0.96756093 0.86593391 0.21688721 1.20933626 0.19915893 0.55758948\n",
      "  0.55367744 0.8339692 ]\n",
      " [0.75174908 0.45784592 0.37349557 0.96652161 0.42363298 0.59011156\n",
      "  0.26203539 0.68820746]]\n"
     ]
    }
   ],
   "source": [
    "# Write your code here\n",
    "\n",
    "A = np.random.rand(5,3)\n",
    "B = np.random.rand(8,3)\n",
    "D = np.zeros((5,8))\n",
    "\n",
    "for i in range(5):\n",
    "    for j in range(8):\n",
    "        x = A[i,:]\n",
    "        y = B[j,:]\n",
    "        D[i,j] = np.sqrt(np.dot(x,x.T)-2 * np.dot(x,y.T) + np.dot(y,y.T))\n",
    "        \n",
    "print(D)"
   ]
  },
  {
   "cell_type": "code",
   "execution_count": 13,
   "metadata": {},
   "outputs": [
    {
     "name": "stdout",
     "output_type": "stream",
     "text": [
      "[[0.43458846 0.63130544 0.87146425 0.69365485 0.88531954 0.8816282\n",
      "  0.7808823  0.42352075]\n",
      " [0.43245138 1.00288852 0.7108903  0.72367675 0.6853082  0.61426288\n",
      "  0.98642556 0.2336945 ]\n",
      " [0.68608187 0.52824693 0.37976832 0.93825666 0.40749519 0.58189592\n",
      "  0.36107082 0.59242649]\n",
      " [0.96756093 0.86593391 0.21688721 1.20933626 0.19915893 0.55758948\n",
      "  0.55367744 0.8339692 ]\n",
      " [0.75174908 0.45784592 0.37349557 0.96652161 0.42363298 0.59011156\n",
      "  0.26203539 0.68820746]]\n"
     ]
    }
   ],
   "source": [
    "# Without loop: solution 1\n",
    "\n",
    "D = np.sqrt(np.sum(np.square(A)[:,np.newaxis,:], axis=2) - 2 * A.dot(B.T) + np.sum(np.square(B), axis=1))\n",
    "print(D)"
   ]
  },
  {
   "cell_type": "code",
   "execution_count": 14,
   "metadata": {},
   "outputs": [
    {
     "name": "stdout",
     "output_type": "stream",
     "text": [
      "[[0.43458846 0.63130544 0.87146425 0.69365485 0.88531954 0.8816282\n",
      "  0.7808823  0.42352075]\n",
      " [0.43245138 1.00288852 0.7108903  0.72367675 0.6853082  0.61426288\n",
      "  0.98642556 0.2336945 ]\n",
      " [0.68608187 0.52824693 0.37976832 0.93825666 0.40749519 0.58189592\n",
      "  0.36107082 0.59242649]\n",
      " [0.96756093 0.86593391 0.21688721 1.20933626 0.19915893 0.55758948\n",
      "  0.55367744 0.8339692 ]\n",
      " [0.75174908 0.45784592 0.37349557 0.96652161 0.42363298 0.59011156\n",
      "  0.26203539 0.68820746]]\n"
     ]
    }
   ],
   "source": [
    "# Without loop: solution 2\n",
    "D = np.sqrt(((A[:,None,:]-B)**2).sum(2))\n",
    "print(D)"
   ]
  },
  {
   "cell_type": "markdown",
   "metadata": {},
   "source": [
    "### Exercise 12 (5 marks - hard)\n",
    "\n",
    "This is a challenging exercise that requires some significant effort and time. Implement from scratch a piece of Python code that can be used to solve the following optimisation problem:\n",
    "$$\\min_{-4 \\leq x \\leq 6} x^4 -4x^3 +60\\sin(x) +50\\cos(x).$$\n",
    "  Explain your solution  in the report.  You are encouraged to design the solution from scratch based on what you  have known. But you are allowed to seek support from existing literature and solve the problem using new self-learned knowledge, and in this case you need to provide references to the used knowledge resources that help you come up with a solution. What is not allowed is to use any optimisation library and any readily provided implementation (even with minor modifications). The solution should be   implemented from scratch by yourself. A plot of the function to minimise is shown as below."
   ]
  },
  {
   "cell_type": "code",
   "execution_count": 5,
   "metadata": {},
   "outputs": [
    {
     "data": {
      "image/png": "[encoded data removed]",
      "text/plain": [
       "<Figure size 432x288 with 1 Axes>"
      ]
     },
     "metadata": {
      "needs_background": "light"
     },
     "output_type": "display_data"
    }
   ],
   "source": [
    "# You can observe the plot of the function by running this cell\n",
    "\n",
    "def f(x):\n",
    "    return x**4 - 4 * x**3 + 60 * np.sin(x) + 50 * np.cos(x)\n",
    "\n",
    "lb = -4.\n",
    "ub = 6.\n",
    "x = np.arange(lb,ub,0.1)\n",
    "fx = f(x)\n",
    "\n",
    "plt.plot(x,fx)\n",
    "plt.xlabel(\"$x$\")\n",
    "plt.ylabel(\"$x^4 - 4x^3 + 60\\sin(x) +50\\cos(x)$\")\n",
    "plt.show()"
   ]
  },
  {
   "cell_type": "code",
   "execution_count": 6,
   "metadata": {},
   "outputs": [
    {
     "name": "stdout",
     "output_type": "stream",
     "text": [
      "The optimum solution: x =  3.604090099774834 f(x) =  -90.05272484134498\n"
     ]
    }
   ],
   "source": [
    "# Write your code here\n",
    "\n",
    "# multistart algorithm\n",
    "# Hickernell, F.J. and Yuan, Y.X.. A simple multistart algorithm for global optimization, 1997\n",
    "# https://www.mathworks.com/help/gads/how-globalsearch-and-multistart-work.html#bsd95e9-1\n",
    "\n",
    "\n",
    "def g(x):\n",
    "    return 4 * x**3 - 12 * x**2 + 60 * np.cos(x) - 50 * np.sin(x)\n",
    "\n",
    "\n",
    "n = 10\n",
    "x_sample = np.random.uniform(lb,ub,n)\n",
    "lr = 0.01\n",
    "delta = 0\n",
    "T = 1000\n",
    "record = np.zeros((n,2))\n",
    "for count in range(n):\n",
    "    x = x_sample[count]\n",
    "    for i in range(T):\n",
    "        x = x - lr * g(x)\n",
    "        x = np.clip(x, lb, ub)\n",
    "    record[count,0] = x\n",
    "    record[count,1] = f(x)\n",
    "\n",
    "record = record[record[:,1].argsort()]\n",
    "xbest = record[0,0]\n",
    "fbest = record[0,1]\n",
    "                    \n",
    "print(\"The optimum solution: x = \", xbest, \"f(x) = \", fbest)"
   ]
  },
  {
   "cell_type": "code",
   "execution_count": 39,
   "metadata": {},
   "outputs": [
    {
     "name": "stdout",
     "output_type": "stream",
     "text": [
      "The optimum solution: x =  3.604090099774834 f(x) =  -90.05272484134498\n"
     ]
    }
   ],
   "source": [
    "# random search algorithm (Simulated Annealing)\n",
    "# Van Laarhoven P J M, Aarts E H L. Simulated annealing[M]//Simulated annealing: Theory and applications. Springer, Dordrecht, 1987: 7-15.\n",
    "\n",
    "def findMin(lb, ub, x):\n",
    "    eps = 1e-7\n",
    "    step_size = ub - lb\n",
    "    dim = np.size(x)\n",
    "    x_best = x\n",
    "    while step_size > eps:\n",
    "        for i in range(10):\n",
    "            v = np.random.randn(dim)\n",
    "            v = v / np.linalg.norm(v) * step_size\n",
    "            x_new = np.clip(x_best + v, -4., 6.)\n",
    "            if f(x_new) < f(x_best):\n",
    "                x_best = x_new\n",
    "        step_size *= 0.98\n",
    "    return x_best\n",
    "        \n",
    "x_best = findMin(-4., 6., 4)\n",
    "print(\"The optimum solution: x = \", xbest, \"f(x) = \", fbest)"
   ]
  },
  {
   "cell_type": "code",
   "execution_count": 7,
   "metadata": {},
   "outputs": [
    {
     "name": "stdout",
     "output_type": "stream",
     "text": [
      "The optimum solution: x =  3.6040900997748344 f(x) =  -90.052724841345\n"
     ]
    }
   ],
   "source": [
    "# Trust region\n",
    "# Conn A R, Gould N I M, Toint P L. Trust region methods[M]. Society for Industrial and Applied Mathematics, 2000.\n",
    "\n",
    "delta = ub - lb  # region radius\n",
    "def h(x):        # Hessian\n",
    "    return 12 * x**2 - 24 * x - 60 * np.sin(x) - 50 * np.cos(x)\n",
    "def m(x, p):     # sub-problem\n",
    "    return f(x) + g(x) * p + 0.5 * p * h(x) * p\n",
    "\n",
    "x = ub\n",
    "for i in range(200):\n",
    "    H = h(x)\n",
    "    G = g(x)\n",
    "    cur = G*H*G   # curvature\n",
    "    \n",
    "    if cur <= 0:\n",
    "        step_size = 1.\n",
    "    else:\n",
    "        step_size = min(abs(G)**3/delta/cur, 1.)\n",
    "        \n",
    "    step = -step_size * delta * G / abs(G)                       # cauchy step\n",
    "    rho = (f(x) - f(x + step)) / (m(x, 0) - m(x, step) + 1e-15)  # agreement ratio\n",
    "    \n",
    "    if rho < 0.25:\n",
    "        delta = max(delta / 4, 1e-15)                             # Decrease the region radius\n",
    "    elif rho > 0.75:\n",
    "        delta = min(delta * 2, ub - lb)                           # Increase the region radius\n",
    "    if rho > 0.1:\n",
    "        x = x + step                                              # Update the solution\n",
    "\n",
    "print(\"The optimum solution: x = \", x, \"f(x) = \", f(x))\n",
    "    "
   ]
  },
  {
   "cell_type": "code",
   "execution_count": 8,
   "metadata": {},
   "outputs": [
    {
     "name": "stdout",
     "output_type": "stream",
     "text": [
      "The optimum solution: x =  3.6040901033790695 f(x) =  -90.052724841345\n"
     ]
    }
   ],
   "source": [
    "# Particle Swarm Optimization\n",
    "# Kennedy J, Eberhart R. Particle swarm optimization[C]//Proceedings of ICNN'95-international conference on neural networks. IEEE, 1995, 4: 1942-1948.\n",
    "\n",
    "def pso(lb, ub, N=20, wp=0.5, wg=1.5):\n",
    "    X = np.random.rand(N) * (ub - lb) + lb # Initialize the particle's position with a uniformly distributed random vector: \n",
    "    X_loc_best = X.copy()                  # Initialize the particle's best known position to its initial position\n",
    "    fs = np.array(map(lambda x: f(x), X))\n",
    "    x_best = X[np.argmin(fs)]              # Update the swarm's best known position\n",
    "    V = np.random.rand(N) * 2 * (ub - lb) + lb - ub    # Initialize the particle's velocity\n",
    "\n",
    "    for t in range(100):\n",
    "        for i in range (N):                #  For each particle\n",
    "            rp, rg = np.random.rand(2)\n",
    "            V[i] = 0.5 * V[i] + wp * rp * (X_loc_best[i] - X[i]) + wg * rg * (x_best - X[i])   # Update the particle's velocity\n",
    "            X[i] += V[i]                    # Update the particle's position\n",
    "            if f(X[i]) < f(X_loc_best[i]):\n",
    "                X_loc_best[i] = X[i]        # Update the particle's best known position\n",
    "                if f(X_loc_best[i]) < f(x_best):\n",
    "                    x_best = X_loc_best[i]  # Update the swarm's best known position\n",
    "    return x_best\n",
    "\n",
    "x_best = pso(-4, 6)\n",
    "print(\"The optimum solution: x = \", x_best, \"f(x) = \", f(x_best))"
   ]
  },
  {
   "cell_type": "code",
   "execution_count": null,
   "metadata": {},
   "outputs": [],
   "source": []
  }
 ],
 "metadata": {
  "kernelspec": {
   "display_name": "Python 3",
   "language": "python",
   "name": "python3"
  },
  "language_info": {
   "codemirror_mode": {
    "name": "ipython",
    "version": 3
   },
   "file_extension": ".py",
   "mimetype": "text/x-python",
   "name": "python",
   "nbconvert_exporter": "python",
   "pygments_lexer": "ipython3",
   "version": "3.8.5"
  }
 },
 "nbformat": 4,
 "nbformat_minor": 2
}
